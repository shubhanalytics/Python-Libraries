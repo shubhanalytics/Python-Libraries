{
 "cells": [
  {
   "cell_type": "markdown",
   "metadata": {
    "colab_type": "text",
    "id": "xtB-v99AHG3T"
   },
   "source": [
    "### Case Study - Honey Production\n",
    "\n",
    "Source Credit : https://www.kaggle.com/jessicali9530/honey-production\n",
    "\n",
    "#### Context\n",
    "In 2006, global concern was raised over the rapid decline in the honeybee population, an integral component to American honey agriculture. Large numbers of hives were lost to Colony Collapse Disorder, a phenomenon of disappearing worker bees causing the remaining hive colony to collapse. Speculation to the cause of this disorder points to hive diseases and pesticides harming the pollinators, though no overall consensus has been reached. Twelve years later, some industries are observing recovery but the American honey industry is still largely struggling. The U.S. used to locally produce over half the honey it consumes per year. Now, honey mostly comes from overseas, with 350 of the 400 million pounds of honey consumed every year originating from imports. This dataset provides insight into honey production supply and demand in America by state from 1998 to 2012.\n",
    "\n",
    "#### Content\n",
    "The National Agricultural Statistics Service (NASS) is the primary data reporting body for the US Department of Agriculture (USDA). NASS's mission is to \"provide timely, accurate, and useful statistics in service to U.S. agriculture\". From datasets to census surveys, their data covers virtually all aspects of U.S. agriculture. Honey production is one of the datasets offered. Click here for the original page containing the data along with related datasets such as Honey Bee Colonies and Cost of Pollination. Data wrangling was performed in order to clean the dataset. honeyproduction.csv is the final tidy dataset suitable for analysis. The three other datasets (which include \"honeyraw\" in the title) are the original raw data downloaded from the site. They are uploaded to this page along with the \"Wrangling The Honey Production Dataset\" kernel as an example to show users how data can be wrangled into a cleaner format. Useful metadata on certain variables of the honeyproduction dataset is provided below:\n",
    "\n",
    "  - numcol: Number of honey producing colonies. Honey producing colonies are the maximum number of colonies from which honey was taken during the year. It is possible to take honey from colonies which did not survive the entire year\n",
    "  - yieldpercol: Honey yield per colony. Unit is pounds\n",
    "  - totalprod: Total production (numcol x yieldpercol). Unit is pounds\n",
    "  - stocks: Refers to stocks held by producers. Unit is pounds\n",
    "  - priceperlb: Refers to average price per pound based on expanded sales. Unit is dollars.\n",
    "  - prodvalue: Value of production (totalprod x priceperlb). Unit is dollars.\n",
    "  - Other useful information: Certain states are excluded every year (ex. CT) to avoid disclosing data for individual operations. Due to rounding, total colonies multiplied by total yield may not equal production. Also, summation of states will not equal U.S. level value of production.\n",
    "\n",
    "\n",
    "#### Acknowledgements\n",
    "Honey production data was published by the National Agricultural Statistics Service (NASS) of the U.S. Department of Agriculture. The beautiful banner photo was by Eric Ward on Unsplash.\n",
    "\n",
    "#### Inspiration\n",
    "   - How has honey production yield changed from 1998 to 2012?\n",
    "   - Over time, which states produce the most honey? Which produce the least? Which have experienced the most change in honey yield?\n",
    "   - Does the data show any trends in terms of the number of honey producing colonies and yield per colony before 2006, which was when concern over Colony Collapse Disorder spread nationwide?\n",
    "   - Are there any patterns that can be observed between total honey production and value of production every year?\n",
    "   - How has value of production, which in some sense could be tied to demand, changed every year?\n"
   ]
  },
  {
   "cell_type": "markdown",
   "metadata": {
    "colab_type": "text",
    "id": "YIeoCDWBHG3V"
   },
   "source": [
    "#### Import pandas, numpy, seaborn packages"
   ]
  },
  {
   "cell_type": "code",
   "execution_count": 1,
   "metadata": {
    "colab": {},
    "colab_type": "code",
    "id": "-P9-oudyHG3Y"
   },
   "outputs": [],
   "source": [
    "import pandas as pd\n",
    "import numpy as np\n",
    "import os\n",
    "import seaborn as sns\n",
    "import matplotlib.pyplot as plt\n",
    "%matplotlib inline"
   ]
  },
  {
   "cell_type": "code",
   "execution_count": 2,
   "metadata": {},
   "outputs": [
    {
     "data": {
      "text/plain": [
       "'C:\\\\Users\\\\Shohel Noor\\\\Box Sync\\\\Python2\\\\Doubt Clearing Week 1 and 2'"
      ]
     },
     "execution_count": 2,
     "metadata": {},
     "output_type": "execute_result"
    }
   ],
   "source": [
    "import os\n",
    "os.getcwd()"
   ]
  },
  {
   "cell_type": "markdown",
   "metadata": {},
   "source": [
    "get wd"
   ]
  },
  {
   "cell_type": "code",
   "execution_count": 5,
   "metadata": {},
   "outputs": [],
   "source": [
    "#os.getcwd()"
   ]
  },
  {
   "cell_type": "markdown",
   "metadata": {
    "colab_type": "text",
    "id": "nUWVJE1JHG3e"
   },
   "source": [
    "#### Import the honeyproduction.csv file"
   ]
  },
  {
   "cell_type": "code",
   "execution_count": 8,
   "metadata": {
    "colab": {},
    "colab_type": "code",
    "id": "bcmA_jlsHG3f"
   },
   "outputs": [],
   "source": [
    "mydata = pd.read_csv(\"honeyproduction.csv\")"
   ]
  },
  {
   "cell_type": "markdown",
   "metadata": {
    "colab_type": "text",
    "id": "dVy5uR-HHG3j"
   },
   "source": [
    "#### Explore the data for non-null and extreme values"
   ]
  },
  {
   "cell_type": "code",
   "execution_count": 9,
   "metadata": {
    "colab": {},
    "colab_type": "code",
    "id": "EfbHZr15HG3k",
    "outputId": "871cba56-9917-489c-8437-46762aea9fa7"
   },
   "outputs": [
    {
     "data": {
      "text/html": [
       "<div>\n",
       "<style scoped>\n",
       "    .dataframe tbody tr th:only-of-type {\n",
       "        vertical-align: middle;\n",
       "    }\n",
       "\n",
       "    .dataframe tbody tr th {\n",
       "        vertical-align: top;\n",
       "    }\n",
       "\n",
       "    .dataframe thead th {\n",
       "        text-align: right;\n",
       "    }\n",
       "</style>\n",
       "<table border=\"1\" class=\"dataframe\">\n",
       "  <thead>\n",
       "    <tr style=\"text-align: right;\">\n",
       "      <th></th>\n",
       "      <th>state</th>\n",
       "      <th>numcol</th>\n",
       "      <th>yieldpercol</th>\n",
       "      <th>totalprod</th>\n",
       "      <th>stocks</th>\n",
       "      <th>priceperlb</th>\n",
       "      <th>prodvalue</th>\n",
       "      <th>year</th>\n",
       "    </tr>\n",
       "  </thead>\n",
       "  <tbody>\n",
       "    <tr>\n",
       "      <th>0</th>\n",
       "      <td>AL</td>\n",
       "      <td>16000.0</td>\n",
       "      <td>71</td>\n",
       "      <td>1136000.0</td>\n",
       "      <td>159000.0</td>\n",
       "      <td>0.72</td>\n",
       "      <td>818000.0</td>\n",
       "      <td>1998</td>\n",
       "    </tr>\n",
       "    <tr>\n",
       "      <th>1</th>\n",
       "      <td>AZ</td>\n",
       "      <td>55000.0</td>\n",
       "      <td>60</td>\n",
       "      <td>3300000.0</td>\n",
       "      <td>1485000.0</td>\n",
       "      <td>0.64</td>\n",
       "      <td>2112000.0</td>\n",
       "      <td>1998</td>\n",
       "    </tr>\n",
       "    <tr>\n",
       "      <th>2</th>\n",
       "      <td>AR</td>\n",
       "      <td>53000.0</td>\n",
       "      <td>65</td>\n",
       "      <td>3445000.0</td>\n",
       "      <td>1688000.0</td>\n",
       "      <td>0.59</td>\n",
       "      <td>2033000.0</td>\n",
       "      <td>1998</td>\n",
       "    </tr>\n",
       "    <tr>\n",
       "      <th>3</th>\n",
       "      <td>CA</td>\n",
       "      <td>450000.0</td>\n",
       "      <td>83</td>\n",
       "      <td>37350000.0</td>\n",
       "      <td>12326000.0</td>\n",
       "      <td>0.62</td>\n",
       "      <td>23157000.0</td>\n",
       "      <td>1998</td>\n",
       "    </tr>\n",
       "    <tr>\n",
       "      <th>4</th>\n",
       "      <td>CO</td>\n",
       "      <td>27000.0</td>\n",
       "      <td>72</td>\n",
       "      <td>1944000.0</td>\n",
       "      <td>1594000.0</td>\n",
       "      <td>0.70</td>\n",
       "      <td>1361000.0</td>\n",
       "      <td>1998</td>\n",
       "    </tr>\n",
       "  </tbody>\n",
       "</table>\n",
       "</div>"
      ],
      "text/plain": [
       "  state    numcol  yieldpercol   totalprod      stocks  priceperlb  \\\n",
       "0    AL   16000.0           71   1136000.0    159000.0        0.72   \n",
       "1    AZ   55000.0           60   3300000.0   1485000.0        0.64   \n",
       "2    AR   53000.0           65   3445000.0   1688000.0        0.59   \n",
       "3    CA  450000.0           83  37350000.0  12326000.0        0.62   \n",
       "4    CO   27000.0           72   1944000.0   1594000.0        0.70   \n",
       "\n",
       "    prodvalue  year  \n",
       "0    818000.0  1998  \n",
       "1   2112000.0  1998  \n",
       "2   2033000.0  1998  \n",
       "3  23157000.0  1998  \n",
       "4   1361000.0  1998  "
      ]
     },
     "execution_count": 9,
     "metadata": {},
     "output_type": "execute_result"
    }
   ],
   "source": [
    "mydata.head()"
   ]
  },
  {
   "cell_type": "code",
   "execution_count": null,
   "metadata": {
    "colab": {},
    "colab_type": "code",
    "id": "zvDC6Zf3HG3q",
    "outputId": "80b0725f-e1a3-4266-ac9b-d850d600d7f5"
   },
   "outputs": [],
   "source": [
    "mydata.describe().transpose()"
   ]
  },
  {
   "cell_type": "code",
   "execution_count": null,
   "metadata": {
    "colab": {},
    "colab_type": "code",
    "id": "zvWVnEabHG3v",
    "outputId": "349f864d-790d-43cd-f68a-c20961a714c8",
    "scrolled": true
   },
   "outputs": [],
   "source": [
    "mydata.info()"
   ]
  },
  {
   "cell_type": "markdown",
   "metadata": {
    "colab_type": "text",
    "id": "ijTsg_vUHG31"
   },
   "source": [
    "#### How many States are included in the dataset?"
   ]
  },
  {
   "cell_type": "code",
   "execution_count": null,
   "metadata": {
    "colab": {},
    "colab_type": "code",
    "id": "kh-gAE7wHG33",
    "outputId": "89556726-aa6d-45d5-c03c-d95e7c0d1d14"
   },
   "outputs": [],
   "source": [
    "mydata['state'].nunique()"
   ]
  },
  {
   "cell_type": "markdown",
   "metadata": {
    "colab_type": "text",
    "id": "TLHxD3_PHG38"
   },
   "source": [
    "#### Which are he States that are included in this dataset?"
   ]
  },
  {
   "cell_type": "code",
   "execution_count": null,
   "metadata": {
    "colab": {},
    "colab_type": "code",
    "id": "RzWHUi23HG39",
    "outputId": "c9f5d009-4061-457f-ebcf-784875a28603"
   },
   "outputs": [],
   "source": [
    "mydata['state'].unique()"
   ]
  },
  {
   "cell_type": "markdown",
   "metadata": {
    "colab_type": "text",
    "id": "c0EIZ-bXHG4C"
   },
   "source": [
    "#### Calculate the average production for each state across all years"
   ]
  },
  {
   "cell_type": "code",
   "execution_count": 17,
   "metadata": {
    "colab": {},
    "colab_type": "code",
    "id": "z22PaBhjHG4D",
    "outputId": "a0486d3b-2587-42ae-850f-5326c91310eb",
    "scrolled": true
   },
   "outputs": [],
   "source": [
    "z = mydata[['state', 'totalprod']].groupby('state').std().round()"
   ]
  },
  {
   "cell_type": "code",
   "execution_count": 24,
   "metadata": {},
   "outputs": [
    {
     "data": {
      "text/plain": [
       "totalprod    float64\n",
       "dtype: object"
      ]
     },
     "execution_count": 24,
     "metadata": {},
     "output_type": "execute_result"
    }
   ],
   "source": [
    "z.dtypes"
   ]
  },
  {
   "cell_type": "markdown",
   "metadata": {
    "colab_type": "text",
    "id": "SIvNVXN7HG4I"
   },
   "source": [
    "#### Hw many years data is provided in the dataset? And what is the starting and ending year?"
   ]
  },
  {
   "cell_type": "code",
   "execution_count": null,
   "metadata": {
    "colab": {},
    "colab_type": "code",
    "id": "9MuXEDQCHG4J",
    "outputId": "73cf520a-5294-40d6-debc-926f995f2d41"
   },
   "outputs": [],
   "source": [
    "mydata['year'].nunique()"
   ]
  },
  {
   "cell_type": "code",
   "execution_count": null,
   "metadata": {
    "colab": {},
    "colab_type": "code",
    "id": "nC5wJywAHG4N",
    "outputId": "f2b50adc-c7ab-49c1-bf66-49e2a3fccbda"
   },
   "outputs": [],
   "source": [
    "mydata['year'].min()"
   ]
  },
  {
   "cell_type": "code",
   "execution_count": null,
   "metadata": {
    "colab": {},
    "colab_type": "code",
    "id": "Rjxt1vuAHG4R",
    "outputId": "a3804383-cbb5-4bbc-fef4-61c76f838dd1"
   },
   "outputs": [],
   "source": [
    "mydata['year'].max()"
   ]
  },
  {
   "cell_type": "markdown",
   "metadata": {
    "colab_type": "text",
    "id": "3bDduPTRHG4V"
   },
   "source": [
    "#### Which State has seen highest volume in production, and in which year?"
   ]
  },
  {
   "cell_type": "code",
   "execution_count": null,
   "metadata": {
    "colab": {},
    "colab_type": "code",
    "id": "E9c1FulPHG4W",
    "outputId": "cc334630-01eb-44e8-ee41-2fc6d0f8e436"
   },
   "outputs": [],
   "source": [
    "mydata[mydata['totalprod']== mydata['totalprod'].max()]"
   ]
  },
  {
   "cell_type": "markdown",
   "metadata": {
    "colab_type": "text",
    "id": "SgyNShRTHG4b"
   },
   "source": [
    "#### What is the average yield per colony , for each year?"
   ]
  },
  {
   "cell_type": "code",
   "execution_count": null,
   "metadata": {
    "colab": {},
    "colab_type": "code",
    "id": "YeMX_NYBHG4c",
    "outputId": "1dd5da38-f4a2-4d74-9b0b-328c441f4c9b"
   },
   "outputs": [],
   "source": [
    "mydata[['year', 'yieldpercol']].groupby('year').mean().round()"
   ]
  },
  {
   "cell_type": "markdown",
   "metadata": {
    "colab_type": "text",
    "id": "oGdzAVwQHG4g"
   },
   "source": [
    "#### Is there correlation between any 2 Numeric variables? Test for the same using Visual techniques"
   ]
  },
  {
   "cell_type": "code",
   "execution_count": null,
   "metadata": {
    "colab": {},
    "colab_type": "code",
    "id": "I94j5DN0HG4h",
    "outputId": "ca60f271-61eb-48e8-9be8-4b013128ece1"
   },
   "outputs": [],
   "source": [
    "sns.pairplot(mydata[['numcol', 'yieldpercol', 'totalprod', 'stocks', 'priceperlb', 'prodvalue']])"
   ]
  },
  {
   "cell_type": "code",
   "execution_count": null,
   "metadata": {
    "colab": {},
    "colab_type": "code",
    "id": "NK1dRuozHG4l"
   },
   "outputs": [],
   "source": [
    "cor = mydata[['numcol', 'yieldpercol', 'totalprod', 'stocks', 'priceperlb', 'prodvalue']].corr()"
   ]
  },
  {
   "cell_type": "code",
   "execution_count": null,
   "metadata": {
    "colab": {},
    "colab_type": "code",
    "id": "oVRAvAuGHG4p",
    "outputId": "d66ffa01-4afc-4311-800f-b5342357d0e5"
   },
   "outputs": [],
   "source": [
    "sns.heatmap(cor,annot=True, cmap='plasma',vmin=-1,vmax=1)"
   ]
  },
  {
   "cell_type": "markdown",
   "metadata": {
    "colab_type": "text",
    "id": "f1fnbPc_HG4u"
   },
   "source": [
    "#### What is the general Production trend from 1998 to 2012? Describe visually"
   ]
  },
  {
   "cell_type": "code",
   "execution_count": null,
   "metadata": {
    "colab": {},
    "colab_type": "code",
    "id": "6be8QPZ8HG4w",
    "outputId": "cefecb38-9897-4e07-d5f0-05bf6723cb97"
   },
   "outputs": [],
   "source": [
    "sns.pointplot(mydata['year'], mydata['totalprod'])"
   ]
  },
  {
   "cell_type": "markdown",
   "metadata": {
    "colab_type": "text",
    "id": "kT_RhBjaHG45"
   },
   "source": [
    "#### How is the production trend for each State? Describe visually - Hint (Use sns.FacetGrid() & g.map() functions)"
   ]
  },
  {
   "cell_type": "code",
   "execution_count": null,
   "metadata": {
    "colab": {},
    "colab_type": "code",
    "id": "s33q4SNdHG48",
    "outputId": "a46ce7ae-2e01-45c8-f258-ecc6da7544e2"
   },
   "outputs": [],
   "source": [
    "g = sns.FacetGrid(mydata, col=\"state\", col_wrap=3, size=3)\n",
    "g = g.map(plt.plot, \"year\", \"totalprod\", marker=\".\")"
   ]
  },
  {
   "cell_type": "markdown",
   "metadata": {
    "colab_type": "text",
    "id": "uc2S5UmUHG5B"
   },
   "source": [
    "#### Is there a linear relationship between the Number of Colonies & Value in Production? Check at an overall level, at state and year levels as well"
   ]
  },
  {
   "cell_type": "code",
   "execution_count": null,
   "metadata": {
    "colab": {},
    "colab_type": "code",
    "id": "cdDkQdLMHG5D",
    "outputId": "f3a0bb32-6c36-44dd-dae5-1fb90f57ab3d"
   },
   "outputs": [],
   "source": [
    "sns.lmplot(x=\"numcol\", y=\"prodvalue\", data=mydata)"
   ]
  },
  {
   "cell_type": "code",
   "execution_count": null,
   "metadata": {},
   "outputs": [],
   "source": [
    "mydata[['numcol','prodvalue']].corr()"
   ]
  },
  {
   "cell_type": "code",
   "execution_count": null,
   "metadata": {},
   "outputs": [],
   "source": [
    "mydata.columns"
   ]
  },
  {
   "cell_type": "code",
   "execution_count": null,
   "metadata": {},
   "outputs": [],
   "source": []
  },
  {
   "cell_type": "code",
   "execution_count": null,
   "metadata": {
    "colab": {},
    "colab_type": "code",
    "id": "P0KO0KhxHG5G",
    "outputId": "fff5204d-701d-4c2d-fec9-1d661d7489ce"
   },
   "outputs": [],
   "source": [
    "sns.lmplot(x=\"numcol\", y=\"prodvalue\", data=mydata, hue='state')"
   ]
  },
  {
   "cell_type": "code",
   "execution_count": null,
   "metadata": {
    "colab": {},
    "colab_type": "code",
    "id": "DF-9IuPkHG5K",
    "outputId": "6513a838-d535-4597-c5eb-017d1870d43c"
   },
   "outputs": [],
   "source": [
    "sns.lmplot(x=\"numcol\", y=\"prodvalue\", data=mydata, hue='year')"
   ]
  },
  {
   "cell_type": "markdown",
   "metadata": {
    "colab_type": "text",
    "id": "Iwx9TM4jHG5O"
   },
   "source": [
    "#### Check the distribution of total prodcution across each year using boxplots"
   ]
  },
  {
   "cell_type": "code",
   "execution_count": null,
   "metadata": {
    "colab": {},
    "colab_type": "code",
    "id": "plN21eLEHG5P",
    "outputId": "101c95e9-d9c4-4359-8031-7eee20e07bc0"
   },
   "outputs": [],
   "source": [
    "fig, ax = plt.subplots(figsize=(20,10))\n",
    "sns.boxplot('year','totalprod',data=mydata)"
   ]
  },
  {
   "cell_type": "markdown",
   "metadata": {
    "colab_type": "text",
    "id": "H-FdjXhMHG5U"
   },
   "source": [
    "#### How has the Value in Production changed over the years?"
   ]
  },
  {
   "cell_type": "code",
   "execution_count": null,
   "metadata": {
    "colab": {},
    "colab_type": "code",
    "id": "c49LNL0wHG5V",
    "outputId": "73bc9182-9b70-4f34-b73b-9e0ee0123197"
   },
   "outputs": [],
   "source": [
    "sns.pointplot(mydata['year'], mydata['prodvalue'])"
   ]
  },
  {
   "cell_type": "markdown",
   "metadata": {
    "colab_type": "text",
    "id": "ggM4J50rHG5b"
   },
   "source": [
    "#### What is the linear relationship between Production volume & value over the years?"
   ]
  },
  {
   "cell_type": "code",
   "execution_count": null,
   "metadata": {
    "colab": {},
    "colab_type": "code",
    "id": "BPhE23_fHG5c",
    "outputId": "d80b97c6-610a-4b9c-e5f4-6d21201dab21"
   },
   "outputs": [],
   "source": [
    "sns.lmplot(x=\"totalprod\", y=\"prodvalue\", data=mydata)"
   ]
  },
  {
   "cell_type": "code",
   "execution_count": null,
   "metadata": {},
   "outputs": [],
   "source": []
  },
  {
   "cell_type": "code",
   "execution_count": null,
   "metadata": {},
   "outputs": [],
   "source": []
  },
  {
   "cell_type": "code",
   "execution_count": null,
   "metadata": {},
   "outputs": [],
   "source": []
  },
  {
   "cell_type": "code",
   "execution_count": null,
   "metadata": {},
   "outputs": [],
   "source": []
  }
 ],
 "metadata": {
  "colab": {
   "name": "Pandas & Data Visualization - Honey Production Kaggle Dataset.ipynb",
   "provenance": []
  },
  "kernelspec": {
   "display_name": "Python 3",
   "language": "python",
   "name": "python3"
  },
  "language_info": {
   "codemirror_mode": {
    "name": "ipython",
    "version": 3
   },
   "file_extension": ".py",
   "mimetype": "text/x-python",
   "name": "python",
   "nbconvert_exporter": "python",
   "pygments_lexer": "ipython3",
   "version": "3.7.7"
  }
 },
 "nbformat": 4,
 "nbformat_minor": 1
}
